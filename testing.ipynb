{
 "cells": [
  {
   "cell_type": "code",
   "execution_count": null,
   "metadata": {},
   "outputs": [],
   "source": [
    "class dHeap:\n",
    "    def __init__(self, d=2):\n",
    "        self.d = d\n",
    "        self.heap = []\n",
    "\n",
    "    def parent(self, i):\n",
    "        return (i - 1) // self.d\n",
    "    \n",
    "    def children(self, i):\n",
    "        return range(1+(i * self.d), 1+(i * self.d)+self.d)\n",
    "    \n",
    "    # verifies upwards from i\n",
    "    def verify_up(self, i):\n",
    "        if i == 0:\n",
    "            return\n",
    "        p = self.parent(i)\n",
    "        if self.heap[i][0] < self.heap[p][0]:\n",
    "            self.heap[i], self.heap[p] = self.heap[p], self.heap[i]\n",
    "            self.verify_up(p)\n",
    "    \n",
    "    def verify_down(self, i):\n",
    "        ci = self.children(i)\n",
    "        swap = False\n",
    "        min = self.heap[i][0]\n",
    "        minIdx = i\n",
    "        for idx in ci:\n",
    "            if idx >= len(self.heap):\n",
    "                break\n",
    "            if self.heap[idx][0] < min:\n",
    "                minIdx = idx\n",
    "                min = self.heap[idx][0]\n",
    "                swap = True\n",
    "        if swap:\n",
    "            self.heap[i], self.heap[minIdx] = self.heap[minIdx], self.heap[i]\n",
    "            self.verify_down(minIdx)\n",
    "\n",
    "\n",
    "    def push(self, item):\n",
    "        self.heap.append(item)\n",
    "        self.verify_up(len(self.heap)-1)\n",
    "\n",
    "\n",
    "    def pop(self):\n",
    "        if not self.heap:\n",
    "            raise IndexError(\"trying to pop from an empty heap\")\n",
    "        out = self.heap[0]\n",
    "        self.heap[0] = self.heap.pop(-1)\n",
    "        print(self.heap)\n",
    "        self.verify_down(0)\n",
    "        return out"
   ]
  },
  {
   "cell_type": "code",
   "execution_count": null,
   "metadata": {},
   "outputs": [],
   "source": [
    "myHeap = dHeap(2)"
   ]
  },
  {
   "cell_type": "code",
   "execution_count": null,
   "metadata": {},
   "outputs": [],
   "source": [
    "myHeap.push((10, 1))\n",
    "print(myHeap.heap)\n",
    "myHeap.push((20, 2))\n",
    "print(myHeap.heap)\n",
    "myHeap.push((15, 3))\n",
    "print(myHeap.heap)\n",
    "myHeap.push((7, 4))\n",
    "print(myHeap.heap)\n",
    "myHeap.push((0, 5))\n",
    "print(myHeap.heap)"
   ]
  },
  {
   "cell_type": "code",
   "execution_count": null,
   "metadata": {},
   "outputs": [],
   "source": [
    "print(myHeap.pop())\n",
    "print(myHeap.heap)"
   ]
  },
  {
   "cell_type": "code",
   "execution_count": 1,
   "metadata": {},
   "outputs": [
    {
     "data": {
      "text/plain": [
       "{0: [], 1: [], 2: [], 3: [], 4: []}"
      ]
     },
     "execution_count": 1,
     "metadata": {},
     "output_type": "execute_result"
    }
   ],
   "source": [
    "e = {i: [] for i in range(5)}\n",
    "e"
   ]
  },
  {
   "cell_type": "code",
   "execution_count": null,
   "metadata": {},
   "outputs": [],
   "source": []
  }
 ],
 "metadata": {
  "kernelspec": {
   "display_name": "Python 3",
   "language": "python",
   "name": "python3"
  },
  "language_info": {
   "codemirror_mode": {
    "name": "ipython",
    "version": 3
   },
   "file_extension": ".py",
   "mimetype": "text/x-python",
   "name": "python",
   "nbconvert_exporter": "python",
   "pygments_lexer": "ipython3",
   "version": "3.11.5"
  }
 },
 "nbformat": 4,
 "nbformat_minor": 2
}
