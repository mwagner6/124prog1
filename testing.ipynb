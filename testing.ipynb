{
 "cells": [
  {
   "cell_type": "code",
   "execution_count": 64,
   "metadata": {},
   "outputs": [],
   "source": []
  },
  {
   "cell_type": "code",
   "execution_count": 68,
   "metadata": {},
   "outputs": [],
   "source": [
    "myHeap = dHeap(2)"
   ]
  },
  {
   "cell_type": "code",
   "execution_count": 69,
   "metadata": {},
   "outputs": [
    {
     "name": "stdout",
     "output_type": "stream",
     "text": [
      "[(10, 1)]\n",
      "[(10, 1), (20, 2)]\n",
      "[(10, 1), (20, 2), (15, 3)]\n",
      "[(7, 4), (10, 1), (15, 3), (20, 2)]\n",
      "[(0, 5), (7, 4), (15, 3), (20, 2), (10, 1)]\n"
     ]
    }
   ],
   "source": [
    "myHeap.push((10, 1))\n",
    "print(myHeap.heap)\n",
    "myHeap.push((20, 2))\n",
    "print(myHeap.heap)\n",
    "myHeap.push((15, 3))\n",
    "print(myHeap.heap)\n",
    "myHeap.push((7, 4))\n",
    "print(myHeap.heap)\n",
    "myHeap.push((0, 5))\n",
    "print(myHeap.heap)"
   ]
  },
  {
   "cell_type": "code",
   "execution_count": 70,
   "metadata": {},
   "outputs": [
    {
     "name": "stdout",
     "output_type": "stream",
     "text": [
      "[(10, 1), (7, 4), (15, 3), (20, 2)]\n",
      "verifying down:\n",
      "parent: 0, children: range(1, 3), heap: [(10, 1), (7, 4), (15, 3), (20, 2)]\n",
      "verifying down:\n",
      "parent: 1, children: range(3, 5), heap: [(7, 4), (10, 1), (15, 3), (20, 2)]\n",
      "(0, 5)\n",
      "[(7, 4), (10, 1), (15, 3), (20, 2)]\n"
     ]
    }
   ],
   "source": [
    "print(myHeap.pop())\n",
    "print(myHeap.heap)"
   ]
  },
  {
   "cell_type": "code",
   "execution_count": null,
   "metadata": {},
   "outputs": [],
   "source": []
  }
 ],
 "metadata": {
  "kernelspec": {
   "display_name": "Python 3",
   "language": "python",
   "name": "python3"
  },
  "language_info": {
   "codemirror_mode": {
    "name": "ipython",
    "version": 3
   },
   "file_extension": ".py",
   "mimetype": "text/x-python",
   "name": "python",
   "nbconvert_exporter": "python",
   "pygments_lexer": "ipython3",
   "version": "3.11.5"
  }
 },
 "nbformat": 4,
 "nbformat_minor": 2
}
